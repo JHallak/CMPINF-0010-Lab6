{
 "cells": [
  {
   "cell_type": "code",
   "execution_count": 1,
   "metadata": {},
   "outputs": [
    {
     "name": "stdout",
     "output_type": "stream",
     "text": [
      "daniel\n",
      "daniel\n",
      "daniel\n",
      "daniel\n"
     ]
    }
   ],
   "source": [
    "name = input(\"enter your name >>> \")\n",
    "is_number  = False\n",
    "while is_number is False:\n",
    "    try:\n",
    "        number = int(input(\"enter a number\"))\n",
    "        for i in range(number):\n",
    "            print(name)\n",
    "        is_number = True\n",
    "    except:\n",
    "        print(\"please enter a number\")"
   ]
  }
 ],
 "metadata": {
  "kernelspec": {
   "display_name": "cmpinf0010",
   "language": "python",
   "name": "python3"
  },
  "language_info": {
   "codemirror_mode": {
    "name": "ipython",
    "version": 3
   },
   "file_extension": ".py",
   "mimetype": "text/x-python",
   "name": "python",
   "nbconvert_exporter": "python",
   "pygments_lexer": "ipython3",
   "version": "3.11.7"
  }
 },
 "nbformat": 4,
 "nbformat_minor": 2
}
